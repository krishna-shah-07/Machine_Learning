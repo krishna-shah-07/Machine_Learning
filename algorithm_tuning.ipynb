{
  "cells": [
    {
      "cell_type": "markdown",
      "metadata": {
        "id": "view-in-github",
        "colab_type": "text"
      },
      "source": [
        "<a href=\"https://colab.research.google.com/github/krishna-shah-07/Machine_Learning/blob/main/algorithm_tuning.ipynb\" target=\"_parent\"><img src=\"https://colab.research.google.com/assets/colab-badge.svg\" alt=\"Open In Colab\"/></a>"
      ]
    },
    {
      "cell_type": "markdown",
      "id": "0",
      "metadata": {
        "id": "0"
      },
      "source": [
        "# Algorithm Tuning\n",
        "\n",
        "Algorithm Tuning allows us to test different models on a given dataset, and helps to figure out which particular model gives the highest value of a user-defined performance metric on that particular dataset."
      ]
    },
    {
      "cell_type": "markdown",
      "id": "f9113ca8",
      "metadata": {
        "id": "f9113ca8"
      },
      "source": [
        "Clone the repo with notebooks and corresponding data."
      ]
    },
    {
      "cell_type": "code",
      "execution_count": 1,
      "id": "1ce9a76d",
      "metadata": {
        "id": "1ce9a76d",
        "outputId": "a62e54bd-7132-4acc-c7f2-972e02d96e4f",
        "colab": {
          "base_uri": "https://localhost:8080/"
        }
      },
      "outputs": [
        {
          "output_type": "stream",
          "name": "stdout",
          "text": [
            "fatal: destination path 'colab-notebooks' already exists and is not an empty directory.\n"
          ]
        }
      ],
      "source": [
        "!git clone https://github.com/TurboML-Inc/colab-notebooks.git"
      ]
    },
    {
      "cell_type": "markdown",
      "id": "a21fb944",
      "metadata": {
        "id": "a21fb944"
      },
      "source": [
        "Set up the environment and install TurboML's SDK."
      ]
    },
    {
      "cell_type": "code",
      "execution_count": 2,
      "id": "74ff43d0",
      "metadata": {
        "id": "74ff43d0",
        "outputId": "fa1666fe-8c1d-417a-c36d-fe4de220758b",
        "colab": {
          "base_uri": "https://localhost:8080/"
        }
      },
      "outputs": [
        {
          "output_type": "stream",
          "name": "stdout",
          "text": [
            "✨🍰✨ Everything looks OK!\n",
            "Error while loading conda entry point: conda-libmamba-solver (module 'libmambapy' has no attribute 'QueryFormat')\n",
            "\n",
            "CondaValueError: You have chosen a non-default solver backend (libmamba) but it was not recognized. Choose one of: classic\n",
            "\n",
            "Requirement already satisfied: ipython in /usr/local/lib/python3.11/site-packages (7.34.0)\n",
            "Requirement already satisfied: traitlets in /usr/local/lib/python3.11/site-packages (5.14.3)\n",
            "Requirement already satisfied: jupyter in /usr/local/lib/python3.11/site-packages (1.1.1)\n",
            "Requirement already satisfied: psutil in /usr/local/lib/python3.11/site-packages (6.1.1)\n",
            "Requirement already satisfied: matplotlib in /usr/local/lib/python3.11/site-packages (3.10.0)\n",
            "Requirement already satisfied: setuptools in /usr/local/lib/python3.11/site-packages (68.2.2)\n",
            "Requirement already satisfied: ipython_genutils in /usr/local/lib/python3.11/site-packages (0.2.0)\n",
            "Requirement already satisfied: ipykernel in /usr/local/lib/python3.11/site-packages (5.5.6)\n",
            "Requirement already satisfied: jupyter_console in /usr/local/lib/python3.11/site-packages (6.4.4)\n",
            "Requirement already satisfied: prompt_toolkit in /usr/local/lib/python3.11/site-packages (3.0.48)\n",
            "Requirement already satisfied: httplib2 in /usr/local/lib/python3.11/site-packages (0.22.0)\n",
            "Requirement already satisfied: astor in /usr/local/lib/python3.11/site-packages (0.8.1)\n",
            "Requirement already satisfied: google-auth==2.27.0 in /usr/local/lib/python3.11/site-packages (2.27.0)\n",
            "Requirement already satisfied: ipyparallel==8.8.0 in /usr/local/lib/python3.11/site-packages (8.8.0)\n",
            "Collecting pandas==2.2.2\n",
            "  Using cached pandas-2.2.2-cp311-cp311-manylinux_2_17_x86_64.manylinux2014_x86_64.whl.metadata (19 kB)\n",
            "Requirement already satisfied: portpicker==1.5.2 in /usr/local/lib/python3.11/site-packages (1.5.2)\n",
            "Requirement already satisfied: notebook==6.5.5 in /usr/local/lib/python3.11/site-packages (6.5.5)\n",
            "Requirement already satisfied: requests==2.32.3 in /usr/local/lib/python3.11/site-packages (2.32.3)\n",
            "Requirement already satisfied: tornado==6.3.3 in /usr/local/lib/python3.11/site-packages (6.3.3)\n",
            "Requirement already satisfied: jedi>=0.16 in /usr/local/lib/python3.11/site-packages (from ipython) (0.19.2)\n",
            "Requirement already satisfied: decorator in /usr/local/lib/python3.11/site-packages (from ipython) (5.1.1)\n",
            "Requirement already satisfied: pickleshare in /usr/local/lib/python3.11/site-packages (from ipython) (0.7.5)\n",
            "Requirement already satisfied: pygments in /usr/local/lib/python3.11/site-packages (from ipython) (2.18.0)\n",
            "Requirement already satisfied: backcall in /usr/local/lib/python3.11/site-packages (from ipython) (0.2.0)\n",
            "Requirement already satisfied: matplotlib-inline in /usr/local/lib/python3.11/site-packages (from ipython) (0.1.7)\n",
            "Requirement already satisfied: pexpect>4.3 in /usr/local/lib/python3.11/site-packages (from ipython) (4.9.0)\n",
            "Requirement already satisfied: jupyter-client in /usr/local/lib/python3.11/site-packages (from ipykernel) (7.4.9)\n",
            "Requirement already satisfied: cachetools<6.0,>=2.0.0 in /usr/local/lib/python3.11/site-packages (from google-auth==2.27.0) (5.5.0)\n",
            "Requirement already satisfied: pyasn1-modules>=0.2.1 in /usr/local/lib/python3.11/site-packages (from google-auth==2.27.0) (0.4.1)\n",
            "Requirement already satisfied: rsa<5,>=3.1.4 in /usr/local/lib/python3.11/site-packages (from google-auth==2.27.0) (4.9)\n",
            "Requirement already satisfied: entrypoints in /usr/local/lib/python3.11/site-packages (from ipyparallel==8.8.0) (0.4)\n",
            "Requirement already satisfied: python-dateutil>=2.1 in /usr/local/lib/python3.11/site-packages (from ipyparallel==8.8.0) (2.9.0.post0)\n",
            "Requirement already satisfied: pyzmq>=18 in /usr/local/lib/python3.11/site-packages (from ipyparallel==8.8.0) (24.0.1)\n",
            "Requirement already satisfied: tqdm in /usr/local/lib/python3.11/site-packages (from ipyparallel==8.8.0) (4.67.1)\n",
            "Requirement already satisfied: numpy>=1.23.2 in /usr/local/lib/python3.11/site-packages (from pandas==2.2.2) (2.2.1)\n",
            "Requirement already satisfied: pytz>=2020.1 in /usr/local/lib/python3.11/site-packages (from pandas==2.2.2) (2024.2)\n",
            "Requirement already satisfied: tzdata>=2022.7 in /usr/local/lib/python3.11/site-packages (from pandas==2.2.2) (2024.2)\n",
            "Requirement already satisfied: jinja2 in /usr/local/lib/python3.11/site-packages (from notebook==6.5.5) (3.1.5)\n",
            "Requirement already satisfied: argon2-cffi in /usr/local/lib/python3.11/site-packages (from notebook==6.5.5) (23.1.0)\n",
            "Requirement already satisfied: jupyter-core>=4.6.1 in /usr/local/lib/python3.11/site-packages (from notebook==6.5.5) (5.7.2)\n",
            "Requirement already satisfied: nbformat in /usr/local/lib/python3.11/site-packages (from notebook==6.5.5) (5.10.4)\n",
            "Requirement already satisfied: nbconvert>=5 in /usr/local/lib/python3.11/site-packages (from notebook==6.5.5) (7.16.4)\n",
            "Requirement already satisfied: nest-asyncio>=1.5 in /usr/local/lib/python3.11/site-packages (from notebook==6.5.5) (1.6.0)\n",
            "Requirement already satisfied: Send2Trash>=1.8.0 in /usr/local/lib/python3.11/site-packages (from notebook==6.5.5) (1.8.3)\n",
            "Requirement already satisfied: terminado>=0.8.3 in /usr/local/lib/python3.11/site-packages (from notebook==6.5.5) (0.18.1)\n",
            "Requirement already satisfied: prometheus-client in /usr/local/lib/python3.11/site-packages (from notebook==6.5.5) (0.21.1)\n",
            "Requirement already satisfied: nbclassic>=0.4.7 in /usr/local/lib/python3.11/site-packages (from notebook==6.5.5) (1.1.0)\n",
            "Requirement already satisfied: charset-normalizer<4,>=2 in /usr/local/lib/python3.11/site-packages (from requests==2.32.3) (3.3.2)\n",
            "Requirement already satisfied: idna<4,>=2.5 in /usr/local/lib/python3.11/site-packages (from requests==2.32.3) (3.6)\n",
            "Requirement already satisfied: urllib3<3,>=1.21.1 in /usr/local/lib/python3.11/site-packages (from requests==2.32.3) (2.1.0)\n",
            "Requirement already satisfied: certifi>=2017.4.17 in /usr/local/lib/python3.11/site-packages (from requests==2.32.3) (2024.12.14)\n",
            "Requirement already satisfied: ipywidgets in /usr/local/lib/python3.11/site-packages (from jupyter) (8.1.5)\n",
            "Requirement already satisfied: jupyterlab in /usr/local/lib/python3.11/site-packages (from jupyter) (4.1.5)\n",
            "Requirement already satisfied: contourpy>=1.0.1 in /usr/local/lib/python3.11/site-packages (from matplotlib) (1.3.1)\n",
            "Requirement already satisfied: cycler>=0.10 in /usr/local/lib/python3.11/site-packages (from matplotlib) (0.12.1)\n",
            "Requirement already satisfied: fonttools>=4.22.0 in /usr/local/lib/python3.11/site-packages (from matplotlib) (4.55.3)\n",
            "Requirement already satisfied: kiwisolver>=1.3.1 in /usr/local/lib/python3.11/site-packages (from matplotlib) (1.4.8)\n",
            "Requirement already satisfied: packaging>=20.0 in /usr/local/lib/python3.11/site-packages (from matplotlib) (23.2)\n",
            "Requirement already satisfied: pillow>=8 in /usr/local/lib/python3.11/site-packages (from matplotlib) (11.0.0)\n",
            "Requirement already satisfied: pyparsing>=2.3.1 in /usr/local/lib/python3.11/site-packages (from matplotlib) (3.2.0)\n",
            "Requirement already satisfied: wcwidth in /usr/local/lib/python3.11/site-packages (from prompt_toolkit) (0.2.13)\n",
            "Requirement already satisfied: parso<0.9.0,>=0.8.4 in /usr/local/lib/python3.11/site-packages (from jedi>=0.16->ipython) (0.8.4)\n",
            "Requirement already satisfied: platformdirs>=2.5 in /usr/local/lib/python3.11/site-packages (from jupyter-core>=4.6.1->notebook==6.5.5) (4.1.0)\n",
            "Requirement already satisfied: notebook-shim>=0.2.3 in /usr/local/lib/python3.11/site-packages (from nbclassic>=0.4.7->notebook==6.5.5) (0.2.4)\n",
            "Requirement already satisfied: beautifulsoup4 in /usr/local/lib/python3.11/site-packages (from nbconvert>=5->notebook==6.5.5) (4.12.3)\n",
            "Requirement already satisfied: bleach!=5.0.0 in /usr/local/lib/python3.11/site-packages (from nbconvert>=5->notebook==6.5.5) (6.2.0)\n",
            "Requirement already satisfied: defusedxml in /usr/local/lib/python3.11/site-packages (from nbconvert>=5->notebook==6.5.5) (0.7.1)\n",
            "Requirement already satisfied: jupyterlab-pygments in /usr/local/lib/python3.11/site-packages (from nbconvert>=5->notebook==6.5.5) (0.3.0)\n",
            "Requirement already satisfied: markupsafe>=2.0 in /usr/local/lib/python3.11/site-packages (from nbconvert>=5->notebook==6.5.5) (3.0.2)\n",
            "Requirement already satisfied: mistune<4,>=2.0.3 in /usr/local/lib/python3.11/site-packages (from nbconvert>=5->notebook==6.5.5) (3.0.2)\n",
            "Requirement already satisfied: nbclient>=0.5.0 in /usr/local/lib/python3.11/site-packages (from nbconvert>=5->notebook==6.5.5) (0.10.2)\n",
            "Requirement already satisfied: pandocfilters>=1.4.1 in /usr/local/lib/python3.11/site-packages (from nbconvert>=5->notebook==6.5.5) (1.5.1)\n",
            "Requirement already satisfied: tinycss2 in /usr/local/lib/python3.11/site-packages (from nbconvert>=5->notebook==6.5.5) (1.4.0)\n",
            "Requirement already satisfied: fastjsonschema>=2.15 in /usr/local/lib/python3.11/site-packages (from nbformat->notebook==6.5.5) (2.21.1)\n",
            "Requirement already satisfied: jsonschema>=2.6 in /usr/local/lib/python3.11/site-packages (from nbformat->notebook==6.5.5) (4.23.0)\n",
            "Requirement already satisfied: ptyprocess>=0.5 in /usr/local/lib/python3.11/site-packages (from pexpect>4.3->ipython) (0.7.0)\n",
            "Requirement already satisfied: pyasn1<0.7.0,>=0.4.6 in /usr/local/lib/python3.11/site-packages (from pyasn1-modules>=0.2.1->google-auth==2.27.0) (0.6.1)\n",
            "Requirement already satisfied: six>=1.5 in /usr/local/lib/python3.11/site-packages (from python-dateutil>=2.1->ipyparallel==8.8.0) (1.17.0)\n",
            "Requirement already satisfied: argon2-cffi-bindings in /usr/local/lib/python3.11/site-packages (from argon2-cffi->notebook==6.5.5) (21.2.0)\n",
            "Requirement already satisfied: comm>=0.1.3 in /usr/local/lib/python3.11/site-packages (from ipywidgets->jupyter) (0.2.2)\n",
            "Requirement already satisfied: widgetsnbextension~=4.0.12 in /usr/local/lib/python3.11/site-packages (from ipywidgets->jupyter) (4.0.13)\n",
            "Requirement already satisfied: jupyterlab-widgets~=3.0.12 in /usr/local/lib/python3.11/site-packages (from ipywidgets->jupyter) (3.0.13)\n",
            "Requirement already satisfied: async-lru>=1.0.0 in /usr/local/lib/python3.11/site-packages (from jupyterlab->jupyter) (2.0.4)\n",
            "Requirement already satisfied: httpx>=0.25.0 in /usr/local/lib/python3.11/site-packages (from jupyterlab->jupyter) (0.28.1)\n",
            "Requirement already satisfied: jupyter-lsp>=2.0.0 in /usr/local/lib/python3.11/site-packages (from jupyterlab->jupyter) (2.2.5)\n",
            "Requirement already satisfied: jupyter-server<3,>=2.4.0 in /usr/local/lib/python3.11/site-packages (from jupyterlab->jupyter) (2.15.0)\n",
            "Requirement already satisfied: jupyterlab-server<3,>=2.19.0 in /usr/local/lib/python3.11/site-packages (from jupyterlab->jupyter) (2.27.3)\n",
            "Requirement already satisfied: webencodings in /usr/local/lib/python3.11/site-packages (from bleach!=5.0.0->nbconvert>=5->notebook==6.5.5) (0.5.1)\n",
            "Requirement already satisfied: anyio in /usr/local/lib/python3.11/site-packages (from httpx>=0.25.0->jupyterlab->jupyter) (4.7.0)\n",
            "Requirement already satisfied: httpcore==1.* in /usr/local/lib/python3.11/site-packages (from httpx>=0.25.0->jupyterlab->jupyter) (1.0.7)\n",
            "Requirement already satisfied: h11<0.15,>=0.13 in /usr/local/lib/python3.11/site-packages (from httpcore==1.*->httpx>=0.25.0->jupyterlab->jupyter) (0.14.0)\n",
            "Requirement already satisfied: attrs>=22.2.0 in /usr/local/lib/python3.11/site-packages (from jsonschema>=2.6->nbformat->notebook==6.5.5) (24.3.0)\n",
            "Requirement already satisfied: jsonschema-specifications>=2023.03.6 in /usr/local/lib/python3.11/site-packages (from jsonschema>=2.6->nbformat->notebook==6.5.5) (2024.10.1)\n",
            "Requirement already satisfied: referencing>=0.28.4 in /usr/local/lib/python3.11/site-packages (from jsonschema>=2.6->nbformat->notebook==6.5.5) (0.35.1)\n",
            "Requirement already satisfied: rpds-py>=0.7.1 in /usr/local/lib/python3.11/site-packages (from jsonschema>=2.6->nbformat->notebook==6.5.5) (0.22.3)\n",
            "Requirement already satisfied: jupyter-events>=0.11.0 in /usr/local/lib/python3.11/site-packages (from jupyter-server<3,>=2.4.0->jupyterlab->jupyter) (0.11.0)\n",
            "Requirement already satisfied: jupyter-server-terminals>=0.4.4 in /usr/local/lib/python3.11/site-packages (from jupyter-server<3,>=2.4.0->jupyterlab->jupyter) (0.5.3)\n",
            "Requirement already satisfied: overrides>=5.0 in /usr/local/lib/python3.11/site-packages (from jupyter-server<3,>=2.4.0->jupyterlab->jupyter) (7.7.0)\n",
            "Requirement already satisfied: websocket-client>=1.7 in /usr/local/lib/python3.11/site-packages (from jupyter-server<3,>=2.4.0->jupyterlab->jupyter) (1.8.0)\n",
            "Requirement already satisfied: babel>=2.10 in /usr/local/lib/python3.11/site-packages (from jupyterlab-server<3,>=2.19.0->jupyterlab->jupyter) (2.16.0)\n",
            "Requirement already satisfied: json5>=0.9.0 in /usr/local/lib/python3.11/site-packages (from jupyterlab-server<3,>=2.19.0->jupyterlab->jupyter) (0.10.0)\n",
            "Requirement already satisfied: cffi>=1.0.1 in /usr/local/lib/python3.11/site-packages (from argon2-cffi-bindings->argon2-cffi->notebook==6.5.5) (1.17.1)\n",
            "Requirement already satisfied: soupsieve>1.2 in /usr/local/lib/python3.11/site-packages (from beautifulsoup4->nbconvert>=5->notebook==6.5.5) (2.6)\n",
            "Requirement already satisfied: sniffio>=1.1 in /usr/local/lib/python3.11/site-packages (from anyio->httpx>=0.25.0->jupyterlab->jupyter) (1.3.1)\n",
            "Requirement already satisfied: typing_extensions>=4.5 in /usr/local/lib/python3.11/site-packages (from anyio->httpx>=0.25.0->jupyterlab->jupyter) (4.12.2)\n",
            "Requirement already satisfied: pycparser in /usr/local/lib/python3.11/site-packages (from cffi>=1.0.1->argon2-cffi-bindings->argon2-cffi->notebook==6.5.5) (2.21)\n",
            "Requirement already satisfied: python-json-logger>=2.0.4 in /usr/local/lib/python3.11/site-packages (from jupyter-events>=0.11.0->jupyter-server<3,>=2.4.0->jupyterlab->jupyter) (3.2.1)\n",
            "Requirement already satisfied: pyyaml>=5.3 in /usr/local/lib/python3.11/site-packages (from jupyter-events>=0.11.0->jupyter-server<3,>=2.4.0->jupyterlab->jupyter) (6.0.2)\n",
            "Requirement already satisfied: rfc3339-validator in /usr/local/lib/python3.11/site-packages (from jupyter-events>=0.11.0->jupyter-server<3,>=2.4.0->jupyterlab->jupyter) (0.1.4)\n",
            "Requirement already satisfied: rfc3986-validator>=0.1.1 in /usr/local/lib/python3.11/site-packages (from jupyter-events>=0.11.0->jupyter-server<3,>=2.4.0->jupyterlab->jupyter) (0.1.1)\n",
            "Requirement already satisfied: fqdn in /usr/local/lib/python3.11/site-packages (from jsonschema[format-nongpl]>=4.18.0->jupyter-events>=0.11.0->jupyter-server<3,>=2.4.0->jupyterlab->jupyter) (1.5.1)\n",
            "Requirement already satisfied: isoduration in /usr/local/lib/python3.11/site-packages (from jsonschema[format-nongpl]>=4.18.0->jupyter-events>=0.11.0->jupyter-server<3,>=2.4.0->jupyterlab->jupyter) (20.11.0)\n",
            "Requirement already satisfied: jsonpointer>1.13 in /usr/local/lib/python3.11/site-packages (from jsonschema[format-nongpl]>=4.18.0->jupyter-events>=0.11.0->jupyter-server<3,>=2.4.0->jupyterlab->jupyter) (3.0.0)\n",
            "Requirement already satisfied: uri-template in /usr/local/lib/python3.11/site-packages (from jsonschema[format-nongpl]>=4.18.0->jupyter-events>=0.11.0->jupyter-server<3,>=2.4.0->jupyterlab->jupyter) (1.3.0)\n",
            "Requirement already satisfied: webcolors>=24.6.0 in /usr/local/lib/python3.11/site-packages (from jsonschema[format-nongpl]>=4.18.0->jupyter-events>=0.11.0->jupyter-server<3,>=2.4.0->jupyterlab->jupyter) (24.11.1)\n",
            "Requirement already satisfied: arrow>=0.15.0 in /usr/local/lib/python3.11/site-packages (from isoduration->jsonschema[format-nongpl]>=4.18.0->jupyter-events>=0.11.0->jupyter-server<3,>=2.4.0->jupyterlab->jupyter) (1.3.0)\n",
            "Requirement already satisfied: types-python-dateutil>=2.8.10 in /usr/local/lib/python3.11/site-packages (from arrow>=0.15.0->isoduration->jsonschema[format-nongpl]>=4.18.0->jupyter-events>=0.11.0->jupyter-server<3,>=2.4.0->jupyterlab->jupyter) (2.9.0.20241206)\n",
            "Using cached pandas-2.2.2-cp311-cp311-manylinux_2_17_x86_64.manylinux2014_x86_64.whl (13.0 MB)\n",
            "Installing collected packages: pandas\n",
            "  Attempting uninstall: pandas\n",
            "    Found existing installation: pandas 2.2.3\n",
            "    Uninstalling pandas-2.2.3:\n",
            "      Successfully uninstalled pandas-2.2.3\n",
            "\u001b[31mERROR: pip's dependency resolver does not currently take into account all the packages that are installed. This behaviour is the source of the following dependency conflicts.\n",
            "turboml-sdk 0.1.4 requires pandas<3.0.0,>=2.2.3, but you have pandas 2.2.2 which is incompatible.\u001b[0m\u001b[31m\n",
            "\u001b[0mSuccessfully installed pandas-2.2.2\n",
            "Requirement already satisfied: turboml-sdk in /usr/local/lib/python3.11/site-packages (0.1.4)\n",
            "Requirement already satisfied: cloudpickle<4,>=3 in /usr/local/lib/python3.11/site-packages (from turboml-sdk) (3.1.0)\n",
            "Requirement already satisfied: datafusion<37.0.0,>=36.0.0 in /usr/local/lib/python3.11/site-packages (from turboml-sdk) (36.0.0)\n",
            "Requirement already satisfied: duckdb<2.0.0,>=1.1.3 in /usr/local/lib/python3.11/site-packages (from turboml-sdk) (1.1.3)\n",
            "Requirement already satisfied: frozendict<3.0.0,>=2.3.10 in /usr/local/lib/python3.11/site-packages (from turboml-sdk) (2.4.6)\n",
            "Requirement already satisfied: ibis-framework<10.0.0,>=9.5.0 in /usr/local/lib/python3.11/site-packages (from turboml-sdk) (9.5.0)\n",
            "Collecting pandas<3.0.0,>=2.2.3 (from turboml-sdk)\n",
            "  Using cached pandas-2.2.3-cp311-cp311-manylinux_2_17_x86_64.manylinux2014_x86_64.whl.metadata (89 kB)\n",
            "Requirement already satisfied: plotly<6.0.0,>=5.18.0 in /usr/local/lib/python3.11/site-packages (from turboml-sdk) (5.24.1)\n",
            "Requirement already satisfied: protobuf<6.0.0,>=5.28.3 in /usr/local/lib/python3.11/site-packages (from turboml-sdk) (5.29.2)\n",
            "Requirement already satisfied: protobuf-to-pydantic<0.4.0,>=0.3.0 in /usr/local/lib/python3.11/site-packages (from turboml-sdk) (0.3.0.3)\n",
            "Requirement already satisfied: psycopg2-binary<3.0.0,>=2.9.9 in /usr/local/lib/python3.11/site-packages (from turboml-sdk) (2.9.10)\n",
            "Requirement already satisfied: psycopg<4.0.0,>=3.1.18 in /usr/local/lib/python3.11/site-packages (from psycopg[binary]<4.0.0,>=3.1.18->turboml-sdk) (3.2.3)\n",
            "Requirement already satisfied: psycopg_pool<4.0.0,>=3.2.1 in /usr/local/lib/python3.11/site-packages (from turboml-sdk) (3.2.4)\n",
            "Requirement already satisfied: pyarrow<18.0.0 in /usr/local/lib/python3.11/site-packages (from turboml-sdk) (17.0.0)\n",
            "Requirement already satisfied: pyarrow-hotfix<0.7,>=0.6 in /usr/local/lib/python3.11/site-packages (from turboml-sdk) (0.6)\n",
            "Requirement already satisfied: pydantic<3.0.0,>=2.5.3 in /usr/local/lib/python3.11/site-packages (from turboml-sdk) (2.10.4)\n",
            "Requirement already satisfied: pydantic-settings<3.0.0,>=2.3.4 in /usr/local/lib/python3.11/site-packages (from turboml-sdk) (2.7.0)\n",
            "Requirement already satisfied: pyjwt<3.0.0,>=2.8.0 in /usr/local/lib/python3.11/site-packages (from pyjwt[crypto]<3.0.0,>=2.8.0->turboml-sdk) (2.10.1)\n",
            "Requirement already satisfied: requests<3.0.0,>=2.31.0 in /usr/local/lib/python3.11/site-packages (from turboml-sdk) (2.32.3)\n",
            "Requirement already satisfied: risingwave<0.2.0,>=0.1.1 in /usr/local/lib/python3.11/site-packages (from turboml-sdk) (0.1.1)\n",
            "Requirement already satisfied: scikit-learn<2.0.0,>=1.5.2 in /usr/local/lib/python3.11/site-packages (from turboml-sdk) (1.6.0)\n",
            "Requirement already satisfied: strenum<0.5.0,>=0.4.15 in /usr/local/lib/python3.11/site-packages (from turboml-sdk) (0.4.15)\n",
            "Requirement already satisfied: tqdm<5.0.0,>=4.66.5 in /usr/local/lib/python3.11/site-packages (from turboml-sdk) (4.67.1)\n",
            "Requirement already satisfied: turboml_bindings<0.2.0,>=0.1.0 in /usr/local/lib/python3.11/site-packages (from turboml-sdk) (0.1.4)\n",
            "Requirement already satisfied: atpublic<6,>=2.3 in /usr/local/lib/python3.11/site-packages (from ibis-framework<10.0.0,>=9.5.0->turboml-sdk) (5.0)\n",
            "Requirement already satisfied: parsy<3,>=2 in /usr/local/lib/python3.11/site-packages (from ibis-framework<10.0.0,>=9.5.0->turboml-sdk) (2.1)\n",
            "Requirement already satisfied: python-dateutil<3,>=2.8.2 in /usr/local/lib/python3.11/site-packages (from ibis-framework<10.0.0,>=9.5.0->turboml-sdk) (2.9.0.post0)\n",
            "Requirement already satisfied: pytz>=2022.7 in /usr/local/lib/python3.11/site-packages (from ibis-framework<10.0.0,>=9.5.0->turboml-sdk) (2024.2)\n",
            "Requirement already satisfied: sqlglot<25.21,>=23.4 in /usr/local/lib/python3.11/site-packages (from ibis-framework<10.0.0,>=9.5.0->turboml-sdk) (25.20.2)\n",
            "Requirement already satisfied: toolz<1,>=0.11 in /usr/local/lib/python3.11/site-packages (from ibis-framework<10.0.0,>=9.5.0->turboml-sdk) (0.12.1)\n",
            "Requirement already satisfied: typing-extensions<5,>=4.3.0 in /usr/local/lib/python3.11/site-packages (from ibis-framework<10.0.0,>=9.5.0->turboml-sdk) (4.12.2)\n",
            "Requirement already satisfied: numpy>=1.23.2 in /usr/local/lib/python3.11/site-packages (from pandas<3.0.0,>=2.2.3->turboml-sdk) (2.2.1)\n",
            "Requirement already satisfied: tzdata>=2022.7 in /usr/local/lib/python3.11/site-packages (from pandas<3.0.0,>=2.2.3->turboml-sdk) (2024.2)\n",
            "Requirement already satisfied: tenacity>=6.2.0 in /usr/local/lib/python3.11/site-packages (from plotly<6.0.0,>=5.18.0->turboml-sdk) (9.0.0)\n",
            "Requirement already satisfied: packaging in /usr/local/lib/python3.11/site-packages (from plotly<6.0.0,>=5.18.0->turboml-sdk) (23.2)\n",
            "Requirement already satisfied: psycopg-binary==3.2.3 in /usr/local/lib/python3.11/site-packages (from psycopg[binary]<4.0.0,>=3.1.18->turboml-sdk) (3.2.3)\n",
            "Requirement already satisfied: annotated-types>=0.6.0 in /usr/local/lib/python3.11/site-packages (from pydantic<3.0.0,>=2.5.3->turboml-sdk) (0.7.0)\n",
            "Requirement already satisfied: pydantic-core==2.27.2 in /usr/local/lib/python3.11/site-packages (from pydantic<3.0.0,>=2.5.3->turboml-sdk) (2.27.2)\n",
            "Requirement already satisfied: python-dotenv>=0.21.0 in /usr/local/lib/python3.11/site-packages (from pydantic-settings<3.0.0,>=2.3.4->turboml-sdk) (1.0.1)\n",
            "Requirement already satisfied: cryptography>=3.4.0 in /usr/local/lib/python3.11/site-packages (from pyjwt[crypto]<3.0.0,>=2.8.0->turboml-sdk) (44.0.0)\n",
            "Requirement already satisfied: charset-normalizer<4,>=2 in /usr/local/lib/python3.11/site-packages (from requests<3.0.0,>=2.31.0->turboml-sdk) (3.3.2)\n",
            "Requirement already satisfied: idna<4,>=2.5 in /usr/local/lib/python3.11/site-packages (from requests<3.0.0,>=2.31.0->turboml-sdk) (3.6)\n",
            "Requirement already satisfied: urllib3<3,>=1.21.1 in /usr/local/lib/python3.11/site-packages (from requests<3.0.0,>=2.31.0->turboml-sdk) (2.1.0)\n",
            "Requirement already satisfied: certifi>=2017.4.17 in /usr/local/lib/python3.11/site-packages (from requests<3.0.0,>=2.31.0->turboml-sdk) (2024.12.14)\n",
            "Requirement already satisfied: scipy>=1.6.0 in /usr/local/lib/python3.11/site-packages (from scikit-learn<2.0.0,>=1.5.2->turboml-sdk) (1.14.1)\n",
            "Requirement already satisfied: joblib>=1.2.0 in /usr/local/lib/python3.11/site-packages (from scikit-learn<2.0.0,>=1.5.2->turboml-sdk) (1.4.2)\n",
            "Requirement already satisfied: threadpoolctl>=3.1.0 in /usr/local/lib/python3.11/site-packages (from scikit-learn<2.0.0,>=1.5.2->turboml-sdk) (3.5.0)\n",
            "Requirement already satisfied: cffi>=1.12 in /usr/local/lib/python3.11/site-packages (from cryptography>=3.4.0->pyjwt[crypto]<3.0.0,>=2.8.0->turboml-sdk) (1.17.1)\n",
            "Requirement already satisfied: six>=1.5 in /usr/local/lib/python3.11/site-packages (from python-dateutil<3,>=2.8.2->ibis-framework<10.0.0,>=9.5.0->turboml-sdk) (1.17.0)\n",
            "Requirement already satisfied: pycparser in /usr/local/lib/python3.11/site-packages (from cffi>=1.12->cryptography>=3.4.0->pyjwt[crypto]<3.0.0,>=2.8.0->turboml-sdk) (2.21)\n",
            "Using cached pandas-2.2.3-cp311-cp311-manylinux_2_17_x86_64.manylinux2014_x86_64.whl (13.1 MB)\n",
            "Installing collected packages: pandas\n",
            "  Attempting uninstall: pandas\n",
            "    Found existing installation: pandas 2.2.2\n",
            "    Uninstalling pandas-2.2.2:\n",
            "      Successfully uninstalled pandas-2.2.2\n",
            "\u001b[31mERROR: pip's dependency resolver does not currently take into account all the packages that are installed. This behaviour is the source of the following dependency conflicts.\n",
            "google-colab 1.0.0 requires pandas==2.2.2, but you have pandas 2.2.3 which is incompatible.\u001b[0m\u001b[31m\n",
            "\u001b[0mSuccessfully installed pandas-2.2.3\n",
            "Installation complete!\n"
          ]
        }
      ],
      "source": [
        "!pip install -q condacolab\n",
        "import condacolab\n",
        "condacolab.install()\n",
        "!bash colab-notebooks/install_turboml.sh"
      ]
    },
    {
      "cell_type": "markdown",
      "id": "949522ac",
      "metadata": {
        "id": "949522ac"
      },
      "source": [
        "The kernel should now be restarted with TurboML's SDK installed."
      ]
    },
    {
      "cell_type": "code",
      "execution_count": 3,
      "id": "9a17d198",
      "metadata": {
        "id": "9a17d198",
        "outputId": "3469bb52-ae37-4b06-b9cc-a4ac44b70e8b",
        "colab": {
          "base_uri": "https://localhost:8080/"
        }
      },
      "outputs": [
        {
          "output_type": "stream",
          "name": "stdout",
          "text": [
            "/content/colab-notebooks\n"
          ]
        }
      ],
      "source": [
        "cd colab-notebooks"
      ]
    },
    {
      "cell_type": "markdown",
      "id": "483c3e10",
      "metadata": {
        "id": "483c3e10"
      },
      "source": [
        "Login to your TurboML instance."
      ]
    },
    {
      "cell_type": "code",
      "execution_count": 4,
      "id": "c125dc71",
      "metadata": {
        "id": "c125dc71"
      },
      "outputs": [],
      "source": [
        "import pandas as pd\n",
        "import turboml as tb\n",
        "tb.init(backend_url=\"https://archetypal-loon.api.turboml.online\", api_key=\"tb_VCTm5Cv8DH1uF526HJIhg0lTuSffp81B_0bcaa119\")\n",
        "from sklearn import metrics"
      ]
    },
    {
      "cell_type": "markdown",
      "id": "1",
      "metadata": {
        "id": "1"
      },
      "source": [
        "Importing the necessary modules and reading the dataset."
      ]
    },
    {
      "cell_type": "code",
      "execution_count": 5,
      "id": "3",
      "metadata": {
        "id": "3"
      },
      "outputs": [],
      "source": [
        "transactions_df = pd.read_csv(\"data/transactions.csv\").reset_index()\n",
        "labels_df = pd.read_csv(\"data/labels.csv\").reset_index()"
      ]
    },
    {
      "cell_type": "markdown",
      "id": "4",
      "metadata": {
        "id": "4"
      },
      "source": [
        "## Dataset\n",
        "\n",
        "We use the `PandasDataset` class to create a dataset to be used for tuning, and also configure the dataset to indicate the column with the primary key.\n",
        "\n",
        "For this example, we use the first 100k rows."
      ]
    },
    {
      "cell_type": "code",
      "execution_count": 6,
      "id": "5",
      "metadata": {
        "id": "5"
      },
      "outputs": [],
      "source": [
        "transactions_100k = tb.PandasDataset(\n",
        "    dataframe=transactions_df[:100000], key_field=\"index\", streaming=False\n",
        ")\n",
        "labels_100k = tb.PandasDataset(\n",
        "    dataframe=labels_df[:100000], key_field=\"index\", streaming=False\n",
        ")"
      ]
    },
    {
      "cell_type": "code",
      "execution_count": 7,
      "id": "6",
      "metadata": {
        "id": "6"
      },
      "outputs": [],
      "source": [
        "numerical_fields = [\n",
        "    \"transactionAmount\",\n",
        "]\n",
        "categorical_fields = [\"digitalItemCount\", \"physicalItemCount\", \"isProxyIP\"]\n",
        "inputs = transactions_100k.get_input_fields(\n",
        "    numerical_fields=numerical_fields, categorical_fields=categorical_fields\n",
        ")\n",
        "label = labels_100k.get_label_field(label_field=\"is_fraud\")"
      ]
    },
    {
      "cell_type": "markdown",
      "id": "7",
      "metadata": {
        "id": "7"
      },
      "source": [
        "## Training/Tuning\n",
        "\n",
        "We will be comparing the `Neural Network` and `Hoeffding Tree Classifier`, and the metric we will be optimizing is `accuracy`."
      ]
    },
    {
      "cell_type": "markdown",
      "id": "8",
      "metadata": {
        "id": "8"
      },
      "source": [
        "Configuring the NN according to the dataset."
      ]
    },
    {
      "cell_type": "code",
      "execution_count": 8,
      "id": "9",
      "metadata": {
        "id": "9"
      },
      "outputs": [],
      "source": [
        "new_layer = tb.NNLayer(output_size=2)\n",
        "\n",
        "nn = tb.NeuralNetwork()\n",
        "nn.layers.append(new_layer)"
      ]
    },
    {
      "cell_type": "markdown",
      "id": "10",
      "metadata": {
        "id": "10"
      },
      "source": [
        "The `algorithm_tuning` function takes in the models being tested as a list along with the metric to test against, and returns an object for the model which had the highest score for the given metric."
      ]
    },
    {
      "cell_type": "code",
      "execution_count": 9,
      "id": "11",
      "metadata": {
        "id": "11",
        "outputId": "11b2703c-f032-4832-82fd-b44b5530d02c",
        "colab": {
          "base_uri": "https://localhost:8080/"
        }
      },
      "outputs": [
        {
          "output_type": "stream",
          "name": "stderr",
          "text": [
            "INFO:turboml.common.internal:Starting to upload data... Total rows: 100000\n",
            "Progress: 100%|██████████| 98.0/98.0 [00:02<00:00, 42.5chunk/s]\n",
            "INFO:turboml.common.internal:Completed data upload.\n",
            "INFO:turboml.common.internal:Starting to upload data... Total rows: 100000\n",
            "Progress: 100%|██████████| 98.0/98.0 [00:00<00:00, 337chunk/s]\n",
            "INFO:turboml.common.internal:Completed data upload.\n"
          ]
        },
        {
          "output_type": "stream",
          "name": "stdout",
          "text": [
            "\n",
            "Model: HoeffdingTreeClassifier\n",
            "Parameters:\n",
            "  - model_id: yoefuqykxd\n",
            "  - version: wheckexdbt\n",
            "  - delta: 1e-07\n",
            "  - tau: 0.05\n",
            "  - grace_period: 200\n",
            "  - n_classes: 2\n",
            "  - leaf_pred_method: mc\n",
            "  - split_method: gini\n",
            "Accuracy Score: 0.99386\n",
            "\n"
          ]
        },
        {
          "output_type": "stream",
          "name": "stderr",
          "text": [
            "INFO:turboml.common.internal:Starting to upload data... Total rows: 100000\n",
            "Progress: 100%|██████████| 98.0/98.0 [00:02<00:00, 41.7chunk/s]\n",
            "INFO:turboml.common.internal:Completed data upload.\n",
            "INFO:turboml.common.internal:Starting to upload data... Total rows: 100000\n",
            "Progress: 100%|██████████| 98.0/98.0 [00:00<00:00, 178chunk/s]\n",
            "INFO:turboml.common.internal:Completed data upload.\n"
          ]
        },
        {
          "output_type": "stream",
          "name": "stdout",
          "text": [
            "\n",
            "Model: NeuralNetwork\n",
            "Parameters:\n",
            "  - model_id: wuckmcyjjr\n",
            "  - version: smjpswkthk\n",
            "  - dropout: 0\n",
            "  - layers: [NNLayer(output_size=64, activation='relu', dropout=0.3, residual_connections=[], use_bias=True), NNLayer(output_size=64, activation='relu', dropout=0.3, residual_connections=[], use_bias=True), NNLayer(output_size=1, activation='sigmoid', dropout=0.3, residual_connections=[], use_bias=True), NNLayer(output_size=2, activation='relu', dropout=0.3, residual_connections=[], use_bias=True)]\n",
            "  - loss_function: mse\n",
            "  - learning_rate: 0.01\n",
            "  - optimizer: sgd\n",
            "  - batch_size: 64\n",
            "Accuracy Score: 0.04396\n",
            "\n"
          ]
        },
        {
          "output_type": "execute_result",
          "data": {
            "text/plain": [
              "HoeffdingTreeClassifier(model_id='yoefuqykxd', version='wheckexdbt', delta=1e-07, tau=0.05, grace_period=200, n_classes=2, leaf_pred_method='mc', split_method='gini')"
            ]
          },
          "metadata": {},
          "execution_count": 9
        }
      ],
      "source": [
        "model_score_list = tb.algorithm_tuning(\n",
        "    models_to_test=[\n",
        "        tb.HoeffdingTreeClassifier(n_classes=2),\n",
        "        nn,\n",
        "    ],\n",
        "    metric_to_optimize=\"accuracy\",\n",
        "    input=inputs,\n",
        "    labels=label,\n",
        ")\n",
        "best_model, best_score = model_score_list[0]\n",
        "best_model"
      ]
    },
    {
      "cell_type": "markdown",
      "id": "12",
      "metadata": {
        "id": "12"
      },
      "source": [
        "# Testing\n",
        "\n",
        "After finding out the best performing model, we can use it normally for inference on the entire dataset and testing on more performance metrics."
      ]
    },
    {
      "cell_type": "code",
      "execution_count": 10,
      "id": "13",
      "metadata": {
        "id": "13",
        "outputId": "377145b3-b7a3-48f0-9d1d-eddf95e2910a",
        "colab": {
          "base_uri": "https://localhost:8080/"
        }
      },
      "outputs": [
        {
          "output_type": "stream",
          "name": "stderr",
          "text": [
            "INFO:turboml.common.internal:Starting to upload data... Total rows: 201406\n",
            "Progress: 100%|██████████| 197/197 [00:02<00:00, 67.2chunk/s]\n",
            "INFO:turboml.common.internal:Completed data upload.\n"
          ]
        }
      ],
      "source": [
        "transactions_full = tb.PandasDataset(\n",
        "    dataframe=transactions_df, key_field=\"index\", streaming=False\n",
        ")\n",
        "features = transactions_full.get_input_fields(\n",
        "    numerical_fields=numerical_fields, categorical_fields=categorical_fields\n",
        ")\n",
        "\n",
        "outputs = best_model.predict(features)"
      ]
    },
    {
      "cell_type": "code",
      "execution_count": 11,
      "id": "14",
      "metadata": {
        "id": "14",
        "outputId": "90a3edd3-44ef-4c98-8a24-8f2336968547",
        "colab": {
          "base_uri": "https://localhost:8080/"
        }
      },
      "outputs": [
        {
          "output_type": "stream",
          "name": "stdout",
          "text": [
            "Accuracy:  0.9943497214581493\n",
            "F1:  0.9367707523058117\n"
          ]
        }
      ],
      "source": [
        "print(\n",
        "    \"Accuracy: \",\n",
        "    metrics.accuracy_score(labels_df[\"is_fraud\"], outputs[\"predicted_class\"]),\n",
        ")\n",
        "print(\"F1: \", metrics.f1_score(labels_df[\"is_fraud\"], outputs[\"predicted_class\"]))"
      ]
    }
  ],
  "metadata": {
    "kernelspec": {
      "display_name": "Python 3 (ipykernel)",
      "language": "python",
      "name": "python3"
    },
    "language_info": {
      "codemirror_mode": {
        "name": "ipython",
        "version": 3
      },
      "file_extension": ".py",
      "mimetype": "text/x-python",
      "name": "python",
      "nbconvert_exporter": "python",
      "pygments_lexer": "ipython3",
      "version": "3.11.9"
    },
    "colab": {
      "provenance": [],
      "include_colab_link": true
    }
  },
  "nbformat": 4,
  "nbformat_minor": 5
}